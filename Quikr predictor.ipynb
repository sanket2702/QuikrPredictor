{
 "cells": [
  {
   "cell_type": "code",
   "execution_count": 1,
   "metadata": {},
   "outputs": [],
   "source": [
    "import pandas as pd "
   ]
  },
  {
   "cell_type": "code",
   "execution_count": 2,
   "metadata": {},
   "outputs": [
    {
     "data": {
      "text/html": [
       "<div>\n",
       "<style scoped>\n",
       "    .dataframe tbody tr th:only-of-type {\n",
       "        vertical-align: middle;\n",
       "    }\n",
       "\n",
       "    .dataframe tbody tr th {\n",
       "        vertical-align: top;\n",
       "    }\n",
       "\n",
       "    .dataframe thead th {\n",
       "        text-align: right;\n",
       "    }\n",
       "</style>\n",
       "<table border=\"1\" class=\"dataframe\">\n",
       "  <thead>\n",
       "    <tr style=\"text-align: right;\">\n",
       "      <th></th>\n",
       "      <th>Unnamed: 0</th>\n",
       "      <th>Name</th>\n",
       "      <th>Label</th>\n",
       "      <th>Location</th>\n",
       "      <th>Price</th>\n",
       "      <th>Kms_driven</th>\n",
       "      <th>Fuel_type</th>\n",
       "      <th>Owner</th>\n",
       "      <th>Year</th>\n",
       "      <th>Company</th>\n",
       "    </tr>\n",
       "  </thead>\n",
       "  <tbody>\n",
       "    <tr>\n",
       "      <th>0</th>\n",
       "      <td>0</td>\n",
       "      <td>Ford Figo Duratec Petrol EXI 1.2 - 2015</td>\n",
       "      <td>PLATINUM</td>\n",
       "      <td>Bangalore</td>\n",
       "      <td>₹3,80,000</td>\n",
       "      <td>35,056 kms</td>\n",
       "      <td>Petrol</td>\n",
       "      <td>NaN</td>\n",
       "      <td>2015</td>\n",
       "      <td>Ford</td>\n",
       "    </tr>\n",
       "    <tr>\n",
       "      <th>1</th>\n",
       "      <td>1</td>\n",
       "      <td>Maruti Suzuki Wagon R VXI BS IV - 2016</td>\n",
       "      <td>PLATINUM</td>\n",
       "      <td>Bangalore</td>\n",
       "      <td>₹4,65,000</td>\n",
       "      <td>44,000 kms</td>\n",
       "      <td>Petrol</td>\n",
       "      <td>NaN</td>\n",
       "      <td>2016</td>\n",
       "      <td>Maruti</td>\n",
       "    </tr>\n",
       "    <tr>\n",
       "      <th>2</th>\n",
       "      <td>2</td>\n",
       "      <td>Hyundai Creta 1.6 SX PLUS AUTO PETROL - 2018</td>\n",
       "      <td>PLATINUM</td>\n",
       "      <td>Bangalore</td>\n",
       "      <td>₹13,50,000</td>\n",
       "      <td>42,917 kms</td>\n",
       "      <td>Petrol</td>\n",
       "      <td>NaN</td>\n",
       "      <td>2018</td>\n",
       "      <td>Hyundai</td>\n",
       "    </tr>\n",
       "    <tr>\n",
       "      <th>3</th>\n",
       "      <td>3</td>\n",
       "      <td>Hyundai Venue - 2019</td>\n",
       "      <td>PLATINUM</td>\n",
       "      <td>Chennai</td>\n",
       "      <td>₹10,19,699</td>\n",
       "      <td>16,112 kms</td>\n",
       "      <td>Petrol</td>\n",
       "      <td>2nd Owner</td>\n",
       "      <td>2019</td>\n",
       "      <td>Hyundai</td>\n",
       "    </tr>\n",
       "    <tr>\n",
       "      <th>4</th>\n",
       "      <td>4</td>\n",
       "      <td>Honda Jazz - 2017</td>\n",
       "      <td>PLATINUM</td>\n",
       "      <td>Pune</td>\n",
       "      <td>₹7,13,499</td>\n",
       "      <td>30,988 kms</td>\n",
       "      <td>Petrol</td>\n",
       "      <td>2nd Owner</td>\n",
       "      <td>2017</td>\n",
       "      <td>Honda</td>\n",
       "    </tr>\n",
       "  </tbody>\n",
       "</table>\n",
       "</div>"
      ],
      "text/plain": [
       "   Unnamed: 0                                          Name     Label  \\\n",
       "0           0       Ford Figo Duratec Petrol EXI 1.2 - 2015  PLATINUM   \n",
       "1           1        Maruti Suzuki Wagon R VXI BS IV - 2016  PLATINUM   \n",
       "2           2  Hyundai Creta 1.6 SX PLUS AUTO PETROL - 2018  PLATINUM   \n",
       "3           3                          Hyundai Venue - 2019  PLATINUM   \n",
       "4           4                             Honda Jazz - 2017  PLATINUM   \n",
       "\n",
       "    Location       Price   Kms_driven Fuel_type       Owner  Year  Company  \n",
       "0  Bangalore   ₹3,80,000  35,056 kms     Petrol         NaN  2015     Ford  \n",
       "1  Bangalore   ₹4,65,000  44,000 kms     Petrol         NaN  2016   Maruti  \n",
       "2  Bangalore  ₹13,50,000  42,917 kms     Petrol         NaN  2018  Hyundai  \n",
       "3    Chennai  ₹10,19,699  16,112 kms    Petrol    2nd Owner  2019  Hyundai  \n",
       "4       Pune   ₹7,13,499  30,988 kms    Petrol    2nd Owner  2017    Honda  "
      ]
     },
     "execution_count": 2,
     "metadata": {},
     "output_type": "execute_result"
    }
   ],
   "source": [
    "car = pd.read_csv('Quikr_car.csv')\n",
    "car.head()"
   ]
  },
  {
   "cell_type": "code",
   "execution_count": 3,
   "metadata": {},
   "outputs": [],
   "source": [
    "##car = car.drop(['Label','Owner','Location'], axis=1)\n",
    "##car"
   ]
  },
  {
   "cell_type": "code",
   "execution_count": 4,
   "metadata": {},
   "outputs": [
    {
     "data": {
      "text/html": [
       "<div>\n",
       "<style scoped>\n",
       "    .dataframe tbody tr th:only-of-type {\n",
       "        vertical-align: middle;\n",
       "    }\n",
       "\n",
       "    .dataframe tbody tr th {\n",
       "        vertical-align: top;\n",
       "    }\n",
       "\n",
       "    .dataframe thead th {\n",
       "        text-align: right;\n",
       "    }\n",
       "</style>\n",
       "<table border=\"1\" class=\"dataframe\">\n",
       "  <thead>\n",
       "    <tr style=\"text-align: right;\">\n",
       "      <th></th>\n",
       "      <th>Name</th>\n",
       "      <th>Price</th>\n",
       "      <th>Kms_driven</th>\n",
       "      <th>Fuel_type</th>\n",
       "      <th>Year</th>\n",
       "      <th>Company</th>\n",
       "    </tr>\n",
       "  </thead>\n",
       "  <tbody>\n",
       "    <tr>\n",
       "      <th>0</th>\n",
       "      <td>Ford Figo Duratec Petrol EXI 1.2 - 2015</td>\n",
       "      <td>₹3,80,000</td>\n",
       "      <td>35,056 kms</td>\n",
       "      <td>Petrol</td>\n",
       "      <td>2015</td>\n",
       "      <td>Ford</td>\n",
       "    </tr>\n",
       "    <tr>\n",
       "      <th>1</th>\n",
       "      <td>Maruti Suzuki Wagon R VXI BS IV - 2016</td>\n",
       "      <td>₹4,65,000</td>\n",
       "      <td>44,000 kms</td>\n",
       "      <td>Petrol</td>\n",
       "      <td>2016</td>\n",
       "      <td>Maruti</td>\n",
       "    </tr>\n",
       "    <tr>\n",
       "      <th>2</th>\n",
       "      <td>Hyundai Creta 1.6 SX PLUS AUTO PETROL - 2018</td>\n",
       "      <td>₹13,50,000</td>\n",
       "      <td>42,917 kms</td>\n",
       "      <td>Petrol</td>\n",
       "      <td>2018</td>\n",
       "      <td>Hyundai</td>\n",
       "    </tr>\n",
       "    <tr>\n",
       "      <th>3</th>\n",
       "      <td>Hyundai Venue - 2019</td>\n",
       "      <td>₹10,19,699</td>\n",
       "      <td>16,112 kms</td>\n",
       "      <td>Petrol</td>\n",
       "      <td>2019</td>\n",
       "      <td>Hyundai</td>\n",
       "    </tr>\n",
       "    <tr>\n",
       "      <th>4</th>\n",
       "      <td>Honda Jazz - 2017</td>\n",
       "      <td>₹7,13,499</td>\n",
       "      <td>30,988 kms</td>\n",
       "      <td>Petrol</td>\n",
       "      <td>2017</td>\n",
       "      <td>Honda</td>\n",
       "    </tr>\n",
       "  </tbody>\n",
       "</table>\n",
       "</div>"
      ],
      "text/plain": [
       "                                           Name       Price   Kms_driven  \\\n",
       "0       Ford Figo Duratec Petrol EXI 1.2 - 2015   ₹3,80,000  35,056 kms    \n",
       "1        Maruti Suzuki Wagon R VXI BS IV - 2016   ₹4,65,000  44,000 kms    \n",
       "2  Hyundai Creta 1.6 SX PLUS AUTO PETROL - 2018  ₹13,50,000  42,917 kms    \n",
       "3                          Hyundai Venue - 2019  ₹10,19,699  16,112 kms    \n",
       "4                             Honda Jazz - 2017   ₹7,13,499  30,988 kms    \n",
       "\n",
       "  Fuel_type  Year  Company  \n",
       "0    Petrol  2015     Ford  \n",
       "1    Petrol  2016   Maruti  \n",
       "2    Petrol  2018  Hyundai  \n",
       "3   Petrol   2019  Hyundai  \n",
       "4   Petrol   2017    Honda  "
      ]
     },
     "execution_count": 4,
     "metadata": {},
     "output_type": "execute_result"
    }
   ],
   "source": [
    "car=pd.DataFrame(car)\n",
    "\n",
    "car.drop(car.columns[[0,2,3,7]],axis=1,inplace=True)\n",
    "car.head()"
   ]
  },
  {
   "cell_type": "code",
   "execution_count": 5,
   "metadata": {},
   "outputs": [
    {
     "data": {
      "text/plain": [
       "(1032, 6)"
      ]
     },
     "execution_count": 5,
     "metadata": {},
     "output_type": "execute_result"
    }
   ],
   "source": [
    "car.shape"
   ]
  },
  {
   "cell_type": "code",
   "execution_count": 6,
   "metadata": {},
   "outputs": [
    {
     "data": {
      "text/html": [
       "<div>\n",
       "<style scoped>\n",
       "    .dataframe tbody tr th:only-of-type {\n",
       "        vertical-align: middle;\n",
       "    }\n",
       "\n",
       "    .dataframe tbody tr th {\n",
       "        vertical-align: top;\n",
       "    }\n",
       "\n",
       "    .dataframe thead th {\n",
       "        text-align: right;\n",
       "    }\n",
       "</style>\n",
       "<table border=\"1\" class=\"dataframe\">\n",
       "  <thead>\n",
       "    <tr style=\"text-align: right;\">\n",
       "      <th></th>\n",
       "      <th>Name</th>\n",
       "      <th>Company</th>\n",
       "      <th>Year</th>\n",
       "      <th>Price</th>\n",
       "      <th>Kms_driven</th>\n",
       "      <th>Fuel_type</th>\n",
       "    </tr>\n",
       "  </thead>\n",
       "  <tbody>\n",
       "    <tr>\n",
       "      <th>0</th>\n",
       "      <td>Ford Figo Duratec Petrol EXI 1.2 - 2015</td>\n",
       "      <td>Ford</td>\n",
       "      <td>2015</td>\n",
       "      <td>₹3,80,000</td>\n",
       "      <td>35,056 kms</td>\n",
       "      <td>Petrol</td>\n",
       "    </tr>\n",
       "    <tr>\n",
       "      <th>1</th>\n",
       "      <td>Maruti Suzuki Wagon R VXI BS IV - 2016</td>\n",
       "      <td>Maruti</td>\n",
       "      <td>2016</td>\n",
       "      <td>₹4,65,000</td>\n",
       "      <td>44,000 kms</td>\n",
       "      <td>Petrol</td>\n",
       "    </tr>\n",
       "    <tr>\n",
       "      <th>2</th>\n",
       "      <td>Hyundai Creta 1.6 SX PLUS AUTO PETROL - 2018</td>\n",
       "      <td>Hyundai</td>\n",
       "      <td>2018</td>\n",
       "      <td>₹13,50,000</td>\n",
       "      <td>42,917 kms</td>\n",
       "      <td>Petrol</td>\n",
       "    </tr>\n",
       "    <tr>\n",
       "      <th>3</th>\n",
       "      <td>Hyundai Venue - 2019</td>\n",
       "      <td>Hyundai</td>\n",
       "      <td>2019</td>\n",
       "      <td>₹10,19,699</td>\n",
       "      <td>16,112 kms</td>\n",
       "      <td>Petrol</td>\n",
       "    </tr>\n",
       "    <tr>\n",
       "      <th>4</th>\n",
       "      <td>Honda Jazz - 2017</td>\n",
       "      <td>Honda</td>\n",
       "      <td>2017</td>\n",
       "      <td>₹7,13,499</td>\n",
       "      <td>30,988 kms</td>\n",
       "      <td>Petrol</td>\n",
       "    </tr>\n",
       "    <tr>\n",
       "      <th>...</th>\n",
       "      <td>...</td>\n",
       "      <td>...</td>\n",
       "      <td>...</td>\n",
       "      <td>...</td>\n",
       "      <td>...</td>\n",
       "      <td>...</td>\n",
       "    </tr>\n",
       "    <tr>\n",
       "      <th>1027</th>\n",
       "      <td>Hyundai i10 Magna 1.2 - 2014</td>\n",
       "      <td>Hyundai</td>\n",
       "      <td>2014</td>\n",
       "      <td>₹2,29,000</td>\n",
       "      <td>65,000 kms</td>\n",
       "      <td>Petrol</td>\n",
       "    </tr>\n",
       "    <tr>\n",
       "      <th>1028</th>\n",
       "      <td>Maruti Suzuki Alto K10 LXi CNG - 2014</td>\n",
       "      <td>Maruti</td>\n",
       "      <td>2014</td>\n",
       "      <td>₹2,75,000</td>\n",
       "      <td>60,000 kms</td>\n",
       "      <td>Petrol</td>\n",
       "    </tr>\n",
       "    <tr>\n",
       "      <th>1029</th>\n",
       "      <td>Jeep Compass Limited 2.0 Diesel - 2017</td>\n",
       "      <td>Jeep</td>\n",
       "      <td>2017</td>\n",
       "      <td>₹17,50,000</td>\n",
       "      <td>31,000 kms</td>\n",
       "      <td>Diesel</td>\n",
       "    </tr>\n",
       "    <tr>\n",
       "      <th>1030</th>\n",
       "      <td>Jeep Compass Limited 2.0 Diesel - 2017</td>\n",
       "      <td>Jeep</td>\n",
       "      <td>2017</td>\n",
       "      <td>₹17,50,000</td>\n",
       "      <td>31,000 kms</td>\n",
       "      <td>Diesel</td>\n",
       "    </tr>\n",
       "    <tr>\n",
       "      <th>1031</th>\n",
       "      <td>Jeep Compass Limited 2.0 Diesel - 2017</td>\n",
       "      <td>Jeep</td>\n",
       "      <td>2017</td>\n",
       "      <td>₹17,50,000</td>\n",
       "      <td>31,000 kms</td>\n",
       "      <td>Diesel</td>\n",
       "    </tr>\n",
       "  </tbody>\n",
       "</table>\n",
       "<p>1032 rows × 6 columns</p>\n",
       "</div>"
      ],
      "text/plain": [
       "                                              Name  Company  Year       Price  \\\n",
       "0          Ford Figo Duratec Petrol EXI 1.2 - 2015     Ford  2015   ₹3,80,000   \n",
       "1           Maruti Suzuki Wagon R VXI BS IV - 2016   Maruti  2016   ₹4,65,000   \n",
       "2     Hyundai Creta 1.6 SX PLUS AUTO PETROL - 2018  Hyundai  2018  ₹13,50,000   \n",
       "3                             Hyundai Venue - 2019  Hyundai  2019  ₹10,19,699   \n",
       "4                                Honda Jazz - 2017    Honda  2017   ₹7,13,499   \n",
       "...                                            ...      ...   ...         ...   \n",
       "1027                  Hyundai i10 Magna 1.2 - 2014  Hyundai  2014   ₹2,29,000   \n",
       "1028         Maruti Suzuki Alto K10 LXi CNG - 2014   Maruti  2014   ₹2,75,000   \n",
       "1029        Jeep Compass Limited 2.0 Diesel - 2017     Jeep  2017  ₹17,50,000   \n",
       "1030        Jeep Compass Limited 2.0 Diesel - 2017     Jeep  2017  ₹17,50,000   \n",
       "1031        Jeep Compass Limited 2.0 Diesel - 2017     Jeep  2017  ₹17,50,000   \n",
       "\n",
       "       Kms_driven Fuel_type  \n",
       "0     35,056 kms     Petrol  \n",
       "1     44,000 kms     Petrol  \n",
       "2     42,917 kms     Petrol  \n",
       "3     16,112 kms    Petrol   \n",
       "4     30,988 kms    Petrol   \n",
       "...           ...       ...  \n",
       "1027  65,000 kms    Petrol   \n",
       "1028  60,000 kms     Petrol  \n",
       "1029  31,000 kms    Diesel   \n",
       "1030  31,000 kms    Diesel   \n",
       "1031  31,000 kms    Diesel   \n",
       "\n",
       "[1032 rows x 6 columns]"
      ]
     },
     "execution_count": 6,
     "metadata": {},
     "output_type": "execute_result"
    }
   ],
   "source": [
    "neworder= ['Name','Company','Year','Price','Kms_driven','Fuel_type']\n",
    "car=car.reindex(columns=neworder)\n",
    "car"
   ]
  },
  {
   "cell_type": "code",
   "execution_count": 7,
   "metadata": {},
   "outputs": [
    {
     "name": "stdout",
     "output_type": "stream",
     "text": [
      "<class 'pandas.core.frame.DataFrame'>\n",
      "RangeIndex: 1032 entries, 0 to 1031\n",
      "Data columns (total 6 columns):\n",
      " #   Column      Non-Null Count  Dtype \n",
      "---  ------      --------------  ----- \n",
      " 0   Name        1032 non-null   object\n",
      " 1   Company     1032 non-null   object\n",
      " 2   Year        1032 non-null   int64 \n",
      " 3   Price       1032 non-null   object\n",
      " 4   Kms_driven  1032 non-null   object\n",
      " 5   Fuel_type   1032 non-null   object\n",
      "dtypes: int64(1), object(5)\n",
      "memory usage: 48.5+ KB\n"
     ]
    }
   ],
   "source": [
    "car.info()"
   ]
  },
  {
   "cell_type": "markdown",
   "metadata": {},
   "source": [
    "## Quality test\n",
    "- Year has incorrect data type\n",
    "- Price has string,special char like commas and convert into integer\n",
    "- remove the kms unit and convert into integer and clean nan values\n",
    "- Fuel type has nan values too\n",
    "- Name column needs to be modified to be kept three words of name"
   ]
  },
  {
   "cell_type": "markdown",
   "metadata": {},
   "source": [
    "# Cleaning"
   ]
  },
  {
   "cell_type": "code",
   "execution_count": 8,
   "metadata": {},
   "outputs": [],
   "source": [
    "#backup = car.copy()"
   ]
  },
  {
   "cell_type": "code",
   "execution_count": 9,
   "metadata": {},
   "outputs": [],
   "source": [
    "#backup"
   ]
  },
  {
   "cell_type": "code",
   "execution_count": 10,
   "metadata": {},
   "outputs": [
    {
     "data": {
      "text/plain": [
       "array([2015, 2016, 2018, 2019, 2017, 2013, 2012, 2020, 2014, 2011, 2021,\n",
       "       2010, 2001, 2022, 2000, 2008, 2005, 2007, 2006, 2004, 2002, 2009,\n",
       "       2003], dtype=int64)"
      ]
     },
     "execution_count": 10,
     "metadata": {},
     "output_type": "execute_result"
    }
   ],
   "source": [
    "car['Year'].unique()"
   ]
  },
  {
   "cell_type": "code",
   "execution_count": 11,
   "metadata": {},
   "outputs": [],
   "source": [
    "car['Year']=car['Year'].astype(int)"
   ]
  },
  {
   "cell_type": "code",
   "execution_count": 12,
   "metadata": {},
   "outputs": [
    {
     "name": "stdout",
     "output_type": "stream",
     "text": [
      "<class 'pandas.core.frame.DataFrame'>\n",
      "RangeIndex: 1032 entries, 0 to 1031\n",
      "Data columns (total 6 columns):\n",
      " #   Column      Non-Null Count  Dtype \n",
      "---  ------      --------------  ----- \n",
      " 0   Name        1032 non-null   object\n",
      " 1   Company     1032 non-null   object\n",
      " 2   Year        1032 non-null   int32 \n",
      " 3   Price       1032 non-null   object\n",
      " 4   Kms_driven  1032 non-null   object\n",
      " 5   Fuel_type   1032 non-null   object\n",
      "dtypes: int32(1), object(5)\n",
      "memory usage: 44.5+ KB\n"
     ]
    }
   ],
   "source": [
    "car.info()"
   ]
  },
  {
   "cell_type": "code",
   "execution_count": 13,
   "metadata": {},
   "outputs": [
    {
     "data": {
      "text/plain": [
       "array(['₹3,80,000', '₹4,65,000', '₹13,50,000', '₹10,19,699', '₹7,13,499',\n",
       "       '₹3,91,099', '₹4,74,299', '₹12,52,999', '₹3,93,699', '₹7,30,899',\n",
       "       '₹3,43,099', '₹7,07,599', '₹6,88,899', '₹14,21,599', '₹3,99,999',\n",
       "       '₹14,73,299', '₹10,25,000', '₹7,35,000', '₹6,00,000', '₹8,00,000',\n",
       "       '₹7,00,000', '₹8,20,000', '₹1,95,000', '₹18,50,000', '₹8,07,499',\n",
       "       '₹5,22,999', '₹7,40,899', '₹11,41,999', '₹9,71,299', '₹6,40,999',\n",
       "       '₹6,76,199', '₹5,62,399', '₹5,80,899', '₹7,70,999', '₹5,31,399',\n",
       "       '₹3,67,299', '₹4,12,199', '₹14,60,099', '₹6,18,699', '₹4,85,000',\n",
       "       '₹8,90,000', '₹2,45,000', '₹9,45,000', '₹5,90,000', '₹4,95,000',\n",
       "       '₹4,75,000', '₹12,00,000', '₹4,90,199', '₹9,20,999', '₹5,54,399',\n",
       "       '₹4,08,999', '₹12,48,299', '₹6,36,099', '₹4,52,699', '₹7,04,399',\n",
       "       '₹5,53,599', '₹9,99,599', '₹6,84,699', '₹6,20,399', '₹5,49,899',\n",
       "       '₹8,12,899', '₹6,56,699', '₹7,25,000', '₹37,00,000', '₹3,65,000',\n",
       "       '₹2,80,000', '₹8,40,000', '₹8,18,599', '₹8,62,399', '₹6,73,599',\n",
       "       '₹5,28,899', '₹5,27,999', '₹7,91,699', '₹3,92,999', '₹6,90,199',\n",
       "       '₹4,74,699', '₹20,19,899', '₹5,62,299', '₹14,00,999', '₹4,47,599',\n",
       "       '₹18,14,599', '₹9,20,399', '₹3,90,000', '₹6,50,000', '₹5,75,000',\n",
       "       '₹5,25,000', '₹10,00,000', '₹3,25,000', '₹30,00,000', '₹3,43,299',\n",
       "       '₹17,11,499', '₹9,18,799', '₹5,26,399', '₹8,81,099', '₹17,64,199',\n",
       "       '₹6,39,199', '₹19,17,599', '₹4,66,599', '₹13,97,699', '₹5,04,399',\n",
       "       '₹19,20,399', '₹9,17,599', '₹3,19,099', '₹4,84,399', '₹2,90,000',\n",
       "       '₹17,90,000', '₹73,000', '₹22,00,000', '₹15,50,000', '₹4,20,000',\n",
       "       '₹15,95,000', '₹5,73,499', '₹8,79,199', '₹7,33,399', '₹9,67,599',\n",
       "       '₹15,39,299', '₹5,61,499', '₹10,42,699', '₹10,32,099', '₹9,03,499',\n",
       "       '₹4,72,499', '₹7,71,299', '₹4,47,099', '₹5,04,599', '₹6,20,999',\n",
       "       '₹4,33,999', '₹6,27,499', '₹3,60,000', '₹13,75,000', '₹69,000',\n",
       "       '₹89,000', '₹44,25,000', '₹44,50,000', '₹7,04,199', '₹5,13,099',\n",
       "       '₹4,69,399', '₹8,44,199', '₹5,44,799', '₹7,10,899', '₹5,80,599',\n",
       "       '₹6,38,499', '₹6,54,699', '₹8,94,199', '₹8,58,599', '₹9,92,199',\n",
       "       '₹7,14,999', '₹7,65,599', '₹18,00,299', '₹11,90,000', '₹14,52,000',\n",
       "       '₹10,26,000', '₹8,21,000', '₹3,36,000', '₹2,00,000', '₹6,80,699',\n",
       "       '₹7,14,899', '₹3,16,799', '₹6,75,099', '₹10,57,399', '₹9,38,099',\n",
       "       '₹10,57,699', '₹6,10,099', '₹4,52,199', '₹7,12,699', '₹8,38,699',\n",
       "       '₹6,66,899', '₹16,81,899', '₹18,54,599', '₹5,71,499', '₹5,89,199',\n",
       "       '₹23,50,000', '₹36,50,000', '₹4,45,000', '₹12,31,000', '₹3,20,000',\n",
       "       '₹11,75,000', '₹3,51,699', '₹2,99,199', '₹6,57,199', '₹5,39,299',\n",
       "       '₹6,08,399', '₹10,42,799', '₹6,45,199', '₹8,11,899', '₹5,57,799',\n",
       "       '₹8,73,999', '₹2,78,299', '₹9,86,399', '₹17,49,899', '₹4,43,899',\n",
       "       '₹9,36,299', '₹8,50,000', '₹5,95,000', '₹1,75,000', '₹9,30,000',\n",
       "       '₹15,00,000', '₹1,59,000', '₹4,04,499', '₹4,46,499', '₹10,47,499',\n",
       "       '₹3,45,599', '₹7,84,399', '₹4,89,399', '₹2,88,399', '₹5,73,999',\n",
       "       '₹13,73,699', '₹2,79,799', '₹6,58,199', '₹4,65,499', '₹5,63,999',\n",
       "       '₹59,000', '₹1,19,000', '₹1,29,000', '₹29,31,000', '₹7,90,000',\n",
       "       '₹7,18,699', '₹5,43,399', '₹17,80,399', '₹7,57,999', '₹10,13,999',\n",
       "       '₹4,39,999', '₹8,39,199', '₹4,21,799', '₹9,86,799', '₹20,57,399',\n",
       "       '₹10,82,299', '₹5,76,999', '₹5,33,199', '₹4,73,299', '₹18,38,399',\n",
       "       '₹1,99,000', '₹17,50,000', 'Ask For Price', '₹18,90,000',\n",
       "       '₹21,50,000', '₹6,99,000', '₹4,51,799', '₹4,46,999', '₹4,70,799',\n",
       "       '₹5,11,799', '₹3,99,899', '₹3,75,999', '₹6,64,799', '₹6,17,799',\n",
       "       '₹7,49,299', '₹7,95,799', '₹5,43,499', '₹3,17,199', '₹3,73,699',\n",
       "       '₹5,01,799', '₹18,04,399', '₹1,70,000', '₹65,000', '₹2,99,000',\n",
       "       '₹1,76,000', '₹9,85,299', '₹6,42,899', '₹7,40,000', '₹6,10,000',\n",
       "       '₹5,10,000', '₹5,60,000', '₹4,55,000', '₹3,50,000', '₹4,63,099',\n",
       "       '₹3,50,599', '₹6,36,299', '₹6,98,199', '₹7,64,199', '₹5,24,799',\n",
       "       '₹18,31,000', '₹2,10,000', '₹22,50,000', '₹10,90,000', '₹3,75,000',\n",
       "       '₹2,25,000', '₹4,93,899', '₹8,25,299', '₹4,95,499', '₹2,77,599',\n",
       "       '₹4,73,899', '₹8,55,299', '₹5,40,299', '₹4,42,299', '₹7,25,399',\n",
       "       '₹5,58,299', '₹3,54,299', '₹5,25,099', '₹6,75,000', '₹6,45,000',\n",
       "       '₹7,85,000', '₹6,90,000', '₹4,25,000', '₹5,29,699', '₹10,81,899',\n",
       "       '₹2,56,000', '₹12,44,799', '₹4,74,399', '₹3,89,399', '₹4,46,699',\n",
       "       '₹9,18,999', '₹8,15,799', '₹8,96,799', '₹4,11,399', '₹4,98,999',\n",
       "       '₹4,70,000', '₹9,25,000', '₹3,00,000', '₹4,50,000', '₹3,57,999',\n",
       "       '₹4,62,599', '₹6,95,199', '₹4,90,399', '₹3,40,099', '₹9,97,899',\n",
       "       '₹3,51,599', '₹6,03,799', '₹5,99,799', '₹4,56,099', '₹9,93,699',\n",
       "       '₹3,12,299', '₹12,21,799', '₹3,23,399', '₹5,10,799', '₹7,50,000',\n",
       "       '₹1,55,000', '₹4,10,000', '₹2,75,000', '₹1,45,000', '₹1,65,000',\n",
       "       '₹9,10,799', '₹7,22,899', '₹8,09,499', '₹2,97,399', '₹4,11,999',\n",
       "       '₹6,23,399', '₹3,72,399', '₹5,18,099', '₹4,85,599', '₹6,36,899',\n",
       "       '₹3,96,999', '₹9,80,399', '₹6,58,999', '₹3,04,099', '₹3,62,599',\n",
       "       '₹3,44,199', '₹2,15,000', '₹5,50,000', '₹79,000', '₹67,000',\n",
       "       '₹4,62,399', '₹3,19,999', '₹2,75,699', '₹5,01,599', '₹5,06,599',\n",
       "       '₹11,98,599', '₹7,75,499', '₹3,38,999', '₹6,52,699', '₹5,35,899',\n",
       "       '₹4,92,099', '₹8,85,999', '₹6,94,899', '₹4,50,599', '₹3,77,999',\n",
       "       '₹4,91,499', '₹18,65,000', '₹2,35,000', '₹15,75,000', '₹6,95,000',\n",
       "       '₹2,95,000', '₹11,71,199', '₹6,25,699', '₹4,53,199', '₹8,50,499',\n",
       "       '₹5,48,699', '₹4,98,799', '₹13,77,199', '₹7,72,799', '₹5,72,599',\n",
       "       '₹7,74,899', '₹8,85,099', '₹6,87,499', '₹5,67,799', '₹3,98,499',\n",
       "       '₹3,48,499', '₹5,20,899', '₹2,40,000', '₹5,00,000', '₹2,50,000',\n",
       "       '₹9,75,000', '₹9,16,799', '₹4,80,999', '₹10,43,299', '₹7,87,399',\n",
       "       '₹3,62,999', '₹4,03,199', '₹10,22,599', '₹4,83,199', '₹3,21,399',\n",
       "       '₹3,07,999', '₹4,78,599', '₹4,05,199', '₹3,14,999', '₹6,84,599',\n",
       "       '₹4,13,099', '₹3,45,000', '₹3,85,000', '₹8,25,000', '₹14,25,000',\n",
       "       '₹5,01,199', '₹3,57,399', '₹4,94,199', '₹4,24,099', '₹5,98,299',\n",
       "       '₹4,77,599', '₹7,03,999', '₹4,16,099', '₹5,59,099', '₹5,27,099',\n",
       "       '₹15,17,999', '₹4,31,099', '₹5,39,799', '₹5,65,000', '₹4,35,000',\n",
       "       '₹6,16,599', '₹16,56,999', '₹5,62,999', '₹4,88,899', '₹5,14,599',\n",
       "       '₹4,95,299', '₹7,52,399', '₹4,74,799', '₹8,49,599', '₹6,63,199',\n",
       "       '₹5,66,699', '₹4,71,199', '₹3,85,499', '₹4,91,599', '₹7,25,699',\n",
       "       '₹4,60,000', '₹9,90,000', '₹1,90,000', '₹6,25,000', '₹6,40,099',\n",
       "       '₹5,75,099', '₹7,26,399', '₹4,80,399', '₹3,69,599', '₹4,51,399',\n",
       "       '₹4,94,099', '₹12,40,899', '₹2,86,199', '₹5,09,399', '₹3,78,099',\n",
       "       '₹5,86,699', '₹9,06,899', '₹8,82,199', '₹5,07,999', '₹8,45,000',\n",
       "       '₹13,25,000', '₹12,45,000', '₹7,82,999', '₹3,97,099', '₹3,92,099',\n",
       "       '₹3,54,599', '₹7,19,599', '₹8,34,099', '₹3,65,899', '₹4,00,899',\n",
       "       '₹3,20,199', '₹4,57,399', '₹7,17,699', '₹4,17,299', '₹3,23,199',\n",
       "       '₹6,33,999', '₹7,95,000', '₹3,95,000', '₹3,30,000', '₹8,75,999',\n",
       "       '₹3,09,399', '₹5,14,099', '₹6,72,899', '₹6,20,099', '₹7,33,999',\n",
       "       '₹6,64,699', '₹4,54,299', '₹3,57,499', '₹4,22,299', '₹4,49,699',\n",
       "       '₹4,93,499', '₹6,05,699', '₹7,55,099', '₹4,90,000', '₹1,60,000',\n",
       "       '₹11,50,000', '₹3,49,000', '₹14,01,000', '₹4,32,699', '₹4,18,599',\n",
       "       '₹2,75,799', '₹4,56,199', '₹7,28,499', '₹4,31,599', '₹5,33,099',\n",
       "       '₹8,40,699', '₹4,86,499', '₹4,50,199', '₹4,18,999', '₹6,21,299',\n",
       "       '₹5,08,399', '₹3,90,999', '₹36,00,000', '₹15,01,000', '₹11,00,000',\n",
       "       '₹1,30,000', '₹4,64,199', '₹3,43,999', '₹4,41,499', '₹6,84,999',\n",
       "       '₹8,15,399', '₹4,68,999', '₹11,94,799', '₹5,99,899', '₹7,10,199',\n",
       "       '₹7,01,399', '₹8,34,599', '₹3,33,699', '₹3,49,799', '₹3,86,699',\n",
       "       '₹10,50,000', '₹13,00,000', '₹6,59,199', '₹5,57,199', '₹4,26,199',\n",
       "       '₹4,32,999', '₹4,58,399', '₹14,65,199', '₹7,83,099', '₹5,29,199',\n",
       "       '₹4,47,199', '₹9,44,099', '₹4,52,099', '₹1,79,000', '₹7,75,000',\n",
       "       '₹3,50,888', '₹2,23,299', '₹6,00,399', '₹3,67,399', '₹7,04,099',\n",
       "       '₹3,77,899', '₹4,58,699', '₹5,66,199', '₹5,94,599', '₹6,78,699',\n",
       "       '₹8,83,099', '₹5,78,099', '₹3,05,899', '₹9,90,888', '₹4,80,000',\n",
       "       '₹8,41,499', '₹10,16,899', '₹7,48,599', '₹6,22,099', '₹5,30,699',\n",
       "       '₹4,71,899', '₹5,05,399', '₹4,60,299', '₹6,83,999', '₹6,39,699',\n",
       "       '₹5,10,499', '₹11,85,499', '₹5,79,899', '₹3,75,888', '₹7,78,888',\n",
       "       '₹75,00,000', '₹5,82,899', '₹4,14,099', '₹5,16,599', '₹3,66,299',\n",
       "       '₹3,75,899', '₹3,11,399', '₹5,01,999', '₹4,09,399', '₹17,37,899',\n",
       "       '₹5,83,999', '₹6,54,299', '₹9,86,699', '₹4,14,199', '₹5,88,099',\n",
       "       '₹8,75,000', '₹5,67,399', '₹8,05,099', '₹4,92,199', '₹4,95,799',\n",
       "       '₹11,13,599', '₹2,99,999', '₹5,92,099', '₹3,22,299', '₹4,81,999',\n",
       "       '₹5,34,599', '₹4,29,599', '₹7,23,799', '₹5,63,299', '₹2,14,199',\n",
       "       '₹3,19,399', '₹1,80,000', '₹4,15,000', '₹4,30,000', '₹8,80,000',\n",
       "       '₹8,10,399', '₹7,88,999', '₹5,08,799', '₹4,57,099', '₹6,12,899',\n",
       "       '₹6,84,099', '₹7,16,699', '₹5,09,699', '₹3,37,799', '₹8,52,399',\n",
       "       '₹17,84,699', '₹7,78,199', '₹7,05,099', '₹5,57,599', '₹15,18,099',\n",
       "       '₹19,80,000', '₹10,59,000', '₹1,85,000', '₹7,10,000', '₹19,48,888',\n",
       "       '₹22,72,499', '₹6,26,199', '₹2,36,099', '₹4,30,499', '₹4,42,799',\n",
       "       '₹5,89,299', '₹2,98,199', '₹15,08,799', '₹4,73,699', '₹6,56,299',\n",
       "       '₹3,45,799', '₹5,84,599', '₹7,86,799', '₹6,24,799', '₹4,72,399',\n",
       "       '₹4,08,888', '₹2,88,888', '₹1,98,888', '₹8,98,888', '₹11,48,888',\n",
       "       '₹97,000', '₹1,35,000', '₹6,87,199', '₹3,87,099', '₹6,50,599',\n",
       "       '₹17,05,799', '₹5,26,899', '₹6,12,799', '₹2,69,099', '₹19,52,199',\n",
       "       '₹6,46,299', '₹4,25,899', '₹4,96,399', '₹3,93,799', '₹6,19,599',\n",
       "       '₹4,23,599', '₹8,31,999', '₹6,95,099', '₹9,80,000', '₹2,61,499',\n",
       "       '₹6,49,699', '₹3,13,399', '₹21,22,099', '₹5,52,799', '₹4,90,099',\n",
       "       '₹6,38,599', '₹3,74,799', '₹5,17,499', '₹5,53,899', '₹5,79,199',\n",
       "       '₹5,31,999', '₹4,96,199', '₹6,59,099', '₹5,34,799', '₹9,50,000',\n",
       "       '₹2,65,000', '₹74,999', '₹2,98,599', '₹4,22,999', '₹6,56,399',\n",
       "       '₹6,88,599', '₹11,13,299', '₹5,87,399', '₹4,64,899', '₹3,02,699',\n",
       "       '₹5,83,299', '₹8,77,999', '₹5,29,399', '₹4,39,000', '₹10,69,999',\n",
       "       '₹5,89,999', '₹6,61,299', '₹4,29,099', '₹6,29,799', '₹3,97,299',\n",
       "       '₹5,46,399', '₹4,12,999', '₹4,02,799', '₹9,15,699', '₹3,61,499',\n",
       "       '₹3,57,899', '₹4,75,399', '₹4,85,299', '₹6,43,599', '₹2,55,000',\n",
       "       '₹4,38,199', '₹9,24,599', '₹6,64,099', '₹4,62,299', '₹4,38,499',\n",
       "       '₹6,80,999', '₹3,93,199', '₹6,46,799', '₹3,49,999', '₹4,19,599',\n",
       "       '₹5,85,099', '₹6,27,799', '₹5,20,799', '₹4,10,199', '₹4,04,399',\n",
       "       '₹6,82,799', '₹44,90,000', '₹1,50,000', '₹33,00,000', '₹20,00,000',\n",
       "       '₹5,35,000', '₹10,45,799', '₹2,97,299', '₹9,80,199', '₹7,94,299',\n",
       "       '₹4,11,899', '₹5,57,399', '₹8,96,099', '₹6,37,699', '₹2,54,499',\n",
       "       '₹4,57,699', '₹3,61,599', '₹6,75,799', '₹3,89,499', '₹6,25,599',\n",
       "       '₹6,86,999', '₹90,000', '₹6,20,000', '₹5,19,699', '₹3,24,599',\n",
       "       '₹3,40,199', '₹6,93,999', '₹3,10,999', '₹7,22,199', '₹4,85,099',\n",
       "       '₹6,14,999', '₹10,61,399', '₹8,79,699', '₹7,55,199', '₹8,16,399',\n",
       "       '₹4,14,299', '₹4,76,299', '₹16,44,799', '₹4,40,000', '₹86,000',\n",
       "       '₹3,52,199', '₹5,66,899', '₹6,50,699', '₹4,13,399', '₹6,45,799',\n",
       "       '₹15,51,499', '₹8,11,799', '₹4,06,899', '₹7,27,299', '₹6,57,399',\n",
       "       '₹6,37,599', '₹6,23,799', '₹4,22,899', '₹5,76,099', '₹19,87,699',\n",
       "       '₹39,000', '₹3,26,000', '₹88,000', '₹16,52,199', '₹12,17,499',\n",
       "       '₹11,98,299', '₹5,90,799', '₹8,44,999', '₹3,28,499', '₹7,69,599',\n",
       "       '₹3,95,699', '₹2,94,799', '₹5,34,499', '₹6,81,399', '₹4,15,699',\n",
       "       '₹3,00,199', '₹8,56,699', '₹4,81,399', '₹2,29,000'], dtype=object)"
      ]
     },
     "execution_count": 13,
     "metadata": {},
     "output_type": "execute_result"
    }
   ],
   "source": [
    "car['Price'].unique()"
   ]
  },
  {
   "cell_type": "code",
   "execution_count": 14,
   "metadata": {},
   "outputs": [],
   "source": [
    "car=car[car['Price']!=\"Ask For Price\"]"
   ]
  },
  {
   "cell_type": "code",
   "execution_count": 15,
   "metadata": {},
   "outputs": [
    {
     "name": "stderr",
     "output_type": "stream",
     "text": [
      "<ipython-input-15-ceaa4601d1fc>:1: SettingWithCopyWarning: \n",
      "A value is trying to be set on a copy of a slice from a DataFrame.\n",
      "Try using .loc[row_indexer,col_indexer] = value instead\n",
      "\n",
      "See the caveats in the documentation: https://pandas.pydata.org/pandas-docs/stable/user_guide/indexing.html#returning-a-view-versus-a-copy\n",
      "  car['Price']=car['Price'].str.replace('[\\₹,,]','').astype(int)\n"
     ]
    }
   ],
   "source": [
    "car['Price']=car['Price'].str.replace('[\\₹,,]','').astype(int)"
   ]
  },
  {
   "cell_type": "code",
   "execution_count": 16,
   "metadata": {},
   "outputs": [
    {
     "data": {
      "text/plain": [
       "0       35,056 kms \n",
       "1       44,000 kms \n",
       "2       42,917 kms \n",
       "3       16,112 kms \n",
       "4       30,988 kms \n",
       "           ...     \n",
       "1027    65,000 kms \n",
       "1028    60,000 kms \n",
       "1029    31,000 kms \n",
       "1030    31,000 kms \n",
       "1031    31,000 kms \n",
       "Name: Kms_driven, Length: 1026, dtype: object"
      ]
     },
     "execution_count": 16,
     "metadata": {},
     "output_type": "execute_result"
    }
   ],
   "source": [
    "car['Kms_driven']"
   ]
  },
  {
   "cell_type": "code",
   "execution_count": 17,
   "metadata": {},
   "outputs": [
    {
     "name": "stderr",
     "output_type": "stream",
     "text": [
      "<ipython-input-17-634df37a7ad2>:1: SettingWithCopyWarning: \n",
      "A value is trying to be set on a copy of a slice from a DataFrame.\n",
      "Try using .loc[row_indexer,col_indexer] = value instead\n",
      "\n",
      "See the caveats in the documentation: https://pandas.pydata.org/pandas-docs/stable/user_guide/indexing.html#returning-a-view-versus-a-copy\n",
      "  car['Kms_driven']=car['Kms_driven'].str.split(' ').str.get(0).str.replace(',','')\n"
     ]
    }
   ],
   "source": [
    "car['Kms_driven']=car['Kms_driven'].str.split(' ').str.get(0).str.replace(',','')"
   ]
  },
  {
   "cell_type": "code",
   "execution_count": 18,
   "metadata": {},
   "outputs": [],
   "source": [
    "car=car[car['Kms_driven'].str.isnumeric()]"
   ]
  },
  {
   "cell_type": "code",
   "execution_count": 19,
   "metadata": {},
   "outputs": [
    {
     "name": "stdout",
     "output_type": "stream",
     "text": [
      "<class 'pandas.core.frame.DataFrame'>\n",
      "Int64Index: 1026 entries, 0 to 1031\n",
      "Data columns (total 6 columns):\n",
      " #   Column      Non-Null Count  Dtype \n",
      "---  ------      --------------  ----- \n",
      " 0   Name        1026 non-null   object\n",
      " 1   Company     1026 non-null   object\n",
      " 2   Year        1026 non-null   int32 \n",
      " 3   Price       1026 non-null   int32 \n",
      " 4   Kms_driven  1026 non-null   object\n",
      " 5   Fuel_type   1026 non-null   object\n",
      "dtypes: int32(2), object(4)\n",
      "memory usage: 48.1+ KB\n"
     ]
    }
   ],
   "source": [
    "car.info()"
   ]
  },
  {
   "cell_type": "code",
   "execution_count": 20,
   "metadata": {},
   "outputs": [],
   "source": [
    "car['Kms_driven']=car['Kms_driven'].astype(int)"
   ]
  },
  {
   "cell_type": "code",
   "execution_count": 21,
   "metadata": {},
   "outputs": [
    {
     "name": "stdout",
     "output_type": "stream",
     "text": [
      "<class 'pandas.core.frame.DataFrame'>\n",
      "Int64Index: 1026 entries, 0 to 1031\n",
      "Data columns (total 6 columns):\n",
      " #   Column      Non-Null Count  Dtype \n",
      "---  ------      --------------  ----- \n",
      " 0   Name        1026 non-null   object\n",
      " 1   Company     1026 non-null   object\n",
      " 2   Year        1026 non-null   int32 \n",
      " 3   Price       1026 non-null   int32 \n",
      " 4   Kms_driven  1026 non-null   int32 \n",
      " 5   Fuel_type   1026 non-null   object\n",
      "dtypes: int32(3), object(3)\n",
      "memory usage: 44.1+ KB\n"
     ]
    }
   ],
   "source": [
    "car.info()"
   ]
  },
  {
   "cell_type": "code",
   "execution_count": 22,
   "metadata": {},
   "outputs": [],
   "source": [
    "#car[car['Fuel_type'].isna()]"
   ]
  },
  {
   "cell_type": "code",
   "execution_count": 23,
   "metadata": {},
   "outputs": [],
   "source": [
    "car['Name']= car['Name'].str.split(' ').str.slice(0,3).str.join(' ')"
   ]
  },
  {
   "cell_type": "code",
   "execution_count": 24,
   "metadata": {},
   "outputs": [],
   "source": [
    "car=car.reset_index(drop=True)"
   ]
  },
  {
   "cell_type": "code",
   "execution_count": 25,
   "metadata": {},
   "outputs": [
    {
     "name": "stdout",
     "output_type": "stream",
     "text": [
      "<class 'pandas.core.frame.DataFrame'>\n",
      "RangeIndex: 1026 entries, 0 to 1025\n",
      "Data columns (total 6 columns):\n",
      " #   Column      Non-Null Count  Dtype \n",
      "---  ------      --------------  ----- \n",
      " 0   Name        1026 non-null   object\n",
      " 1   Company     1026 non-null   object\n",
      " 2   Year        1026 non-null   int32 \n",
      " 3   Price       1026 non-null   int32 \n",
      " 4   Kms_driven  1026 non-null   int32 \n",
      " 5   Fuel_type   1026 non-null   object\n",
      "dtypes: int32(3), object(3)\n",
      "memory usage: 36.2+ KB\n"
     ]
    }
   ],
   "source": [
    "car.info()"
   ]
  },
  {
   "cell_type": "code",
   "execution_count": 26,
   "metadata": {},
   "outputs": [
    {
     "data": {
      "text/html": [
       "<div>\n",
       "<style scoped>\n",
       "    .dataframe tbody tr th:only-of-type {\n",
       "        vertical-align: middle;\n",
       "    }\n",
       "\n",
       "    .dataframe tbody tr th {\n",
       "        vertical-align: top;\n",
       "    }\n",
       "\n",
       "    .dataframe thead th {\n",
       "        text-align: right;\n",
       "    }\n",
       "</style>\n",
       "<table border=\"1\" class=\"dataframe\">\n",
       "  <thead>\n",
       "    <tr style=\"text-align: right;\">\n",
       "      <th></th>\n",
       "      <th>Year</th>\n",
       "      <th>Price</th>\n",
       "      <th>Kms_driven</th>\n",
       "    </tr>\n",
       "  </thead>\n",
       "  <tbody>\n",
       "    <tr>\n",
       "      <th>count</th>\n",
       "      <td>1026.000000</td>\n",
       "      <td>1.026000e+03</td>\n",
       "      <td>1026.000000</td>\n",
       "    </tr>\n",
       "    <tr>\n",
       "      <th>mean</th>\n",
       "      <td>2015.809942</td>\n",
       "      <td>6.857131e+05</td>\n",
       "      <td>50299.542885</td>\n",
       "    </tr>\n",
       "    <tr>\n",
       "      <th>std</th>\n",
       "      <td>3.403289</td>\n",
       "      <td>5.374755e+05</td>\n",
       "      <td>38143.114092</td>\n",
       "    </tr>\n",
       "    <tr>\n",
       "      <th>min</th>\n",
       "      <td>2000.000000</td>\n",
       "      <td>3.900000e+04</td>\n",
       "      <td>0.000000</td>\n",
       "    </tr>\n",
       "    <tr>\n",
       "      <th>25%</th>\n",
       "      <td>2014.000000</td>\n",
       "      <td>4.104990e+05</td>\n",
       "      <td>26228.750000</td>\n",
       "    </tr>\n",
       "    <tr>\n",
       "      <th>50%</th>\n",
       "      <td>2016.000000</td>\n",
       "      <td>5.576990e+05</td>\n",
       "      <td>44000.000000</td>\n",
       "    </tr>\n",
       "    <tr>\n",
       "      <th>75%</th>\n",
       "      <td>2018.000000</td>\n",
       "      <td>7.885990e+05</td>\n",
       "      <td>67551.000000</td>\n",
       "    </tr>\n",
       "    <tr>\n",
       "      <th>max</th>\n",
       "      <td>2022.000000</td>\n",
       "      <td>7.500000e+06</td>\n",
       "      <td>690000.000000</td>\n",
       "    </tr>\n",
       "  </tbody>\n",
       "</table>\n",
       "</div>"
      ],
      "text/plain": [
       "              Year         Price     Kms_driven\n",
       "count  1026.000000  1.026000e+03    1026.000000\n",
       "mean   2015.809942  6.857131e+05   50299.542885\n",
       "std       3.403289  5.374755e+05   38143.114092\n",
       "min    2000.000000  3.900000e+04       0.000000\n",
       "25%    2014.000000  4.104990e+05   26228.750000\n",
       "50%    2016.000000  5.576990e+05   44000.000000\n",
       "75%    2018.000000  7.885990e+05   67551.000000\n",
       "max    2022.000000  7.500000e+06  690000.000000"
      ]
     },
     "execution_count": 26,
     "metadata": {},
     "output_type": "execute_result"
    }
   ],
   "source": [
    "car.describe()"
   ]
  },
  {
   "cell_type": "code",
   "execution_count": 27,
   "metadata": {},
   "outputs": [],
   "source": [
    "#if any outlier occured with tangent price value\n",
    "#car[car['Price']>6e6]\n",
    "#car=car[car['Price']<6e6].reset_index(drop=True)"
   ]
  },
  {
   "cell_type": "code",
   "execution_count": 28,
   "metadata": {},
   "outputs": [],
   "source": [
    "car.to_csv('Cleaned car.csv')"
   ]
  },
  {
   "cell_type": "markdown",
   "metadata": {},
   "source": [
    "## Model"
   ]
  },
  {
   "cell_type": "code",
   "execution_count": 29,
   "metadata": {},
   "outputs": [],
   "source": [
    "X=car.drop(columns='Price')\n",
    "y=car['Price']"
   ]
  },
  {
   "cell_type": "code",
   "execution_count": 30,
   "metadata": {},
   "outputs": [
    {
     "data": {
      "text/html": [
       "<div>\n",
       "<style scoped>\n",
       "    .dataframe tbody tr th:only-of-type {\n",
       "        vertical-align: middle;\n",
       "    }\n",
       "\n",
       "    .dataframe tbody tr th {\n",
       "        vertical-align: top;\n",
       "    }\n",
       "\n",
       "    .dataframe thead th {\n",
       "        text-align: right;\n",
       "    }\n",
       "</style>\n",
       "<table border=\"1\" class=\"dataframe\">\n",
       "  <thead>\n",
       "    <tr style=\"text-align: right;\">\n",
       "      <th></th>\n",
       "      <th>Name</th>\n",
       "      <th>Company</th>\n",
       "      <th>Year</th>\n",
       "      <th>Kms_driven</th>\n",
       "      <th>Fuel_type</th>\n",
       "    </tr>\n",
       "  </thead>\n",
       "  <tbody>\n",
       "    <tr>\n",
       "      <th>0</th>\n",
       "      <td>Ford Figo Duratec</td>\n",
       "      <td>Ford</td>\n",
       "      <td>2015</td>\n",
       "      <td>35056</td>\n",
       "      <td>Petrol</td>\n",
       "    </tr>\n",
       "    <tr>\n",
       "      <th>1</th>\n",
       "      <td>Maruti Suzuki Wagon</td>\n",
       "      <td>Maruti</td>\n",
       "      <td>2016</td>\n",
       "      <td>44000</td>\n",
       "      <td>Petrol</td>\n",
       "    </tr>\n",
       "    <tr>\n",
       "      <th>2</th>\n",
       "      <td>Hyundai Creta 1.6</td>\n",
       "      <td>Hyundai</td>\n",
       "      <td>2018</td>\n",
       "      <td>42917</td>\n",
       "      <td>Petrol</td>\n",
       "    </tr>\n",
       "    <tr>\n",
       "      <th>3</th>\n",
       "      <td>Hyundai Venue -</td>\n",
       "      <td>Hyundai</td>\n",
       "      <td>2019</td>\n",
       "      <td>16112</td>\n",
       "      <td>Petrol</td>\n",
       "    </tr>\n",
       "    <tr>\n",
       "      <th>4</th>\n",
       "      <td>Honda Jazz -</td>\n",
       "      <td>Honda</td>\n",
       "      <td>2017</td>\n",
       "      <td>30988</td>\n",
       "      <td>Petrol</td>\n",
       "    </tr>\n",
       "    <tr>\n",
       "      <th>...</th>\n",
       "      <td>...</td>\n",
       "      <td>...</td>\n",
       "      <td>...</td>\n",
       "      <td>...</td>\n",
       "      <td>...</td>\n",
       "    </tr>\n",
       "    <tr>\n",
       "      <th>1021</th>\n",
       "      <td>Hyundai i10 Magna</td>\n",
       "      <td>Hyundai</td>\n",
       "      <td>2014</td>\n",
       "      <td>65000</td>\n",
       "      <td>Petrol</td>\n",
       "    </tr>\n",
       "    <tr>\n",
       "      <th>1022</th>\n",
       "      <td>Maruti Suzuki Alto</td>\n",
       "      <td>Maruti</td>\n",
       "      <td>2014</td>\n",
       "      <td>60000</td>\n",
       "      <td>Petrol</td>\n",
       "    </tr>\n",
       "    <tr>\n",
       "      <th>1023</th>\n",
       "      <td>Jeep Compass Limited</td>\n",
       "      <td>Jeep</td>\n",
       "      <td>2017</td>\n",
       "      <td>31000</td>\n",
       "      <td>Diesel</td>\n",
       "    </tr>\n",
       "    <tr>\n",
       "      <th>1024</th>\n",
       "      <td>Jeep Compass Limited</td>\n",
       "      <td>Jeep</td>\n",
       "      <td>2017</td>\n",
       "      <td>31000</td>\n",
       "      <td>Diesel</td>\n",
       "    </tr>\n",
       "    <tr>\n",
       "      <th>1025</th>\n",
       "      <td>Jeep Compass Limited</td>\n",
       "      <td>Jeep</td>\n",
       "      <td>2017</td>\n",
       "      <td>31000</td>\n",
       "      <td>Diesel</td>\n",
       "    </tr>\n",
       "  </tbody>\n",
       "</table>\n",
       "<p>1026 rows × 5 columns</p>\n",
       "</div>"
      ],
      "text/plain": [
       "                      Name  Company  Year  Kms_driven Fuel_type\n",
       "0        Ford Figo Duratec     Ford  2015       35056    Petrol\n",
       "1      Maruti Suzuki Wagon   Maruti  2016       44000    Petrol\n",
       "2        Hyundai Creta 1.6  Hyundai  2018       42917    Petrol\n",
       "3          Hyundai Venue -  Hyundai  2019       16112   Petrol \n",
       "4             Honda Jazz -    Honda  2017       30988   Petrol \n",
       "...                    ...      ...   ...         ...       ...\n",
       "1021     Hyundai i10 Magna  Hyundai  2014       65000   Petrol \n",
       "1022    Maruti Suzuki Alto   Maruti  2014       60000    Petrol\n",
       "1023  Jeep Compass Limited     Jeep  2017       31000   Diesel \n",
       "1024  Jeep Compass Limited     Jeep  2017       31000   Diesel \n",
       "1025  Jeep Compass Limited     Jeep  2017       31000   Diesel \n",
       "\n",
       "[1026 rows x 5 columns]"
      ]
     },
     "execution_count": 30,
     "metadata": {},
     "output_type": "execute_result"
    }
   ],
   "source": [
    "X"
   ]
  },
  {
   "cell_type": "code",
   "execution_count": 31,
   "metadata": {},
   "outputs": [
    {
     "data": {
      "text/plain": [
       "0        380000\n",
       "1        465000\n",
       "2       1350000\n",
       "3       1019699\n",
       "4        713499\n",
       "         ...   \n",
       "1021     229000\n",
       "1022     275000\n",
       "1023    1750000\n",
       "1024    1750000\n",
       "1025    1750000\n",
       "Name: Price, Length: 1026, dtype: int32"
      ]
     },
     "execution_count": 31,
     "metadata": {},
     "output_type": "execute_result"
    }
   ],
   "source": [
    "y"
   ]
  },
  {
   "cell_type": "code",
   "execution_count": 32,
   "metadata": {},
   "outputs": [],
   "source": [
    "from sklearn.model_selection import train_test_split\n",
    "X_train, X_test, y_train, y_test=train_test_split(X,y, test_size=0.2)"
   ]
  },
  {
   "cell_type": "code",
   "execution_count": 33,
   "metadata": {},
   "outputs": [],
   "source": [
    "from sklearn.linear_model import LinearRegression\n",
    "from sklearn.metrics import r2_score\n",
    "from sklearn.preprocessing import OneHotEncoder\n",
    "from sklearn.compose import make_column_transformer\n",
    "from sklearn.pipeline import make_pipeline"
   ]
  },
  {
   "cell_type": "code",
   "execution_count": 34,
   "metadata": {},
   "outputs": [
    {
     "data": {
      "text/plain": [
       "OneHotEncoder(handle_unknown='ignore', sparse=False)"
      ]
     },
     "execution_count": 34,
     "metadata": {},
     "output_type": "execute_result"
    }
   ],
   "source": [
    "ohe= OneHotEncoder(sparse=False, handle_unknown='ignore')\n",
    "ohe.fit(X[['Name','Company','Fuel_type']])"
   ]
  },
  {
   "cell_type": "code",
   "execution_count": 35,
   "metadata": {},
   "outputs": [
    {
     "data": {
      "text/plain": [
       "[array(['Audi Q3 -', 'Audi Q5 2.0', 'Audi Q7 3.0', 'Audi Q7 35',\n",
       "        'BMW 3 Series', 'BMW 5 Series', 'BMW X5 xDrive30d',\n",
       "        'Chevrolet Aveo -', 'Chevrolet Beat -', 'Chevrolet Beat LS',\n",
       "        'Chevrolet Beat LT', 'Chevrolet Cruze LTZ', 'Chevrolet Optra -',\n",
       "        'Chevrolet Sail 1.2', 'Chevrolet Spark -', 'Datsun GO T',\n",
       "        'Datsun Redi GO', 'Fiat Linea Dynamic', 'Fiat Linea Emotion',\n",
       "        'Fiat Punto Emotion', 'Ford EcoSport -', 'Ford EcoSport Ambiente',\n",
       "        'Ford EcoSport Titanium', 'Ford EcoSport Trend', 'Ford Ecosport -',\n",
       "        'Ford Ecosport 1.0', 'Ford Endeavor 4X4', 'Ford Figo -',\n",
       "        'Ford Figo 1.5', 'Ford Figo Aspire', 'Ford Figo Diesel',\n",
       "        'Ford Figo Duratec', 'Ford Freestyle -', 'Ford Freestyle TITANIUM',\n",
       "        'Ford Ikon -', 'Honda Accord 2.4', 'Honda Amaze -',\n",
       "        'Honda Amaze 1.2', 'Honda Amaze 1.5', 'Honda BRV -',\n",
       "        'Honda Brio -', 'Honda Brio S', 'Honda CRV -', 'Honda City -',\n",
       "        'Honda City 1.5', 'Honda City SV', 'Honda City V', 'Honda City VX',\n",
       "        'Honda City ZX', 'Honda Civic 1.8V', 'Honda Jazz -',\n",
       "        'Honda Jazz 1.2', 'Honda Jazz VX', 'Honda WR V', 'Honda WRV VX',\n",
       "        'Hyundai Accent -', 'Hyundai Creta -', 'Hyundai Creta 1.4',\n",
       "        'Hyundai Creta 1.6', 'Hyundai Creta S', 'Hyundai EON -',\n",
       "        'Hyundai EON D', 'Hyundai EON Era', 'Hyundai EON Magna',\n",
       "        'Hyundai Elite i20', 'Hyundai Eon Era', 'Hyundai Fluidic Verna',\n",
       "        'Hyundai Getz -', 'Hyundai Getz GLS', 'Hyundai Grand i10',\n",
       "        'Hyundai Santa Fe', 'Hyundai Santro -', 'Hyundai Santro 1.1',\n",
       "        'Hyundai Santro ASTA', 'Hyundai Santro GLS',\n",
       "        'Hyundai Santro Sportz', 'Hyundai Santro Xing', 'Hyundai Venue -',\n",
       "        'Hyundai Venue S', 'Hyundai Verna -', 'Hyundai Verna 1.6',\n",
       "        'Hyundai Verna FLUIDIC', 'Hyundai Verna Fluidic',\n",
       "        'Hyundai Verna SX', 'Hyundai Xcent -', 'Hyundai Xcent 1.2',\n",
       "        'Hyundai Xcent S', 'Hyundai i10 Asta', 'Hyundai i10 Era',\n",
       "        'Hyundai i10 Magna', 'Hyundai i10 Sportz', 'Hyundai i20 -',\n",
       "        'Hyundai i20 Active', 'Hyundai i20 Asta', 'Hyundai i20 Era',\n",
       "        'Hyundai i20 Magna', 'Hyundai i20 Sportz', 'Jaguar XF 2.2',\n",
       "        'Jaguar XJ L', 'Jeep Compass -', 'Jeep Compass Limited',\n",
       "        'Kia Carnival -', 'Kia Seltos -', 'Kia Seltos GTX',\n",
       "        'Kia Seltos HTX', 'Kia Sonet -', 'Land Rover Range',\n",
       "        'MG Motors Hector', 'Mahindra Bolero -', 'Mahindra Bolero B6',\n",
       "        'Mahindra Bolero ZLX', 'Mahindra Jeep CL', 'Mahindra Jeep CL550',\n",
       "        'Mahindra KUV100 K4', 'Mahindra KUV100 K6', 'Mahindra Logan -',\n",
       "        'Mahindra Marazzo M6', 'Mahindra Scorpio -',\n",
       "        'Mahindra Scorpio 2.6', 'Mahindra Scorpio LX',\n",
       "        'Mahindra Scorpio S5', 'Mahindra TUV300 -', 'Mahindra TUV300 T8',\n",
       "        'Mahindra Thar DI', 'Mahindra Verito Executive',\n",
       "        'Mahindra XUV 500', 'Mahindra Xylo -', 'Mahindra Xylo D2',\n",
       "        'Mahindra e2o T2', 'Maruti Suzuki 800', 'Maruti Suzuki Alto',\n",
       "        'Maruti Suzuki Baleno', 'Maruti Suzuki Celerio',\n",
       "        'Maruti Suzuki Ciaz', 'Maruti Suzuki Dzire', 'Maruti Suzuki Eeco',\n",
       "        'Maruti Suzuki Ertiga', 'Maruti Suzuki Gypsy',\n",
       "        'Maruti Suzuki Ignis', 'Maruti Suzuki Maruti',\n",
       "        'Maruti Suzuki Omni', 'Maruti Suzuki Ritz', 'Maruti Suzuki S',\n",
       "        'Maruti Suzuki SX4', 'Maruti Suzuki Swift', 'Maruti Suzuki Vitara',\n",
       "        'Maruti Suzuki Wagon', 'Maruti Suzuki XL6', 'Maruti Suzuki Zen',\n",
       "        'Mercedes Benz C', 'Mercedes Benz E', 'Mercedes Benz GL',\n",
       "        'Mercedes Benz GLE', 'Nissan Micra -', 'Nissan Micra Active',\n",
       "        'Nissan Micra XE', 'Nissan Micra XV', 'Nissan Terrano XV',\n",
       "        'Porsche Cayenne Select', 'Renault Captur -', 'Renault Duster -',\n",
       "        'Renault Duster 110', 'Renault Duster 110PS', 'Renault Kwid -',\n",
       "        'Renault Kwid CLIMBER', 'Renault Kwid RXL', 'Renault Kwid RXT',\n",
       "        'Renault Kwid RxL', 'Renault Lodgy -', 'Renault Pulse RxL',\n",
       "        'Renault Scala RxZ', 'Renault Triber -', 'Renault Triber 1.0',\n",
       "        'Renault Triber RXT', 'Skoda Laura Ambition', 'Skoda Rapid -',\n",
       "        'Skoda Rapid 1.5', 'Skoda Rapid Style', 'Ssangyong Rexton RX7',\n",
       "        'Tata Aria Prestige', 'Tata Harrier -', 'Tata Harrier XZ',\n",
       "        'Tata Hexa -', 'Tata Hexa XM', 'Tata Indica -',\n",
       "        'Tata Indica Vista', 'Tata Indigo CS', 'Tata Indigo LX',\n",
       "        'Tata Indigo eCS', 'Tata Nano -', 'Tata Nano CNG',\n",
       "        'Tata Nano Twist', 'Tata Nexon -', 'Tata Nexon XM',\n",
       "        'Tata Nexon XZ', 'Tata Tiago -', 'Tata Tiago Revotorq',\n",
       "        'Tata Tiago XZA', 'Tata Tigor -', 'Tata Zest XMS',\n",
       "        'Toyota Corolla Altis', 'Toyota Corolla H5', 'Toyota Etios -',\n",
       "        'Toyota Etios GD', 'Toyota Etios Liva', 'Toyota Etios V',\n",
       "        'Toyota Fortuner -', 'Toyota Fortuner 2.8', 'Toyota Fortuner 3.0',\n",
       "        'Toyota Fortuner 4x4', 'Toyota Glanza -', 'Toyota Glanza G',\n",
       "        'Toyota Glanza V', 'Toyota Innova -', 'Toyota Innova 2.0',\n",
       "        'Toyota Innova 2.5', 'Toyota Innova Crysta', 'Toyota Yaris -',\n",
       "        'Volkswagen Ameo -', 'Volkswagen Ameo Comfortline',\n",
       "        'Volkswagen Polo -', 'Volkswagen Polo COMFORTLINE',\n",
       "        'Volkswagen Polo Comfortline', 'Volkswagen Polo GT',\n",
       "        'Volkswagen Polo HIGHLINE1.2L', 'Volkswagen Polo Highline',\n",
       "        'Volkswagen Vento -', 'Volkswagen Vento Highline', 'Volvo XC60 D3',\n",
       "        'Volvo XC90 D5'], dtype=object),\n",
       " array(['Audi', 'BMW', 'Chevrolet', 'Datsun', 'Fiat', 'Ford', 'Honda',\n",
       "        'Hyundai', 'Jaguar', 'Jeep', 'Kia', 'Land', 'MG', 'Mahindra',\n",
       "        'Maruti', 'Mercedes', 'Nissan', 'Porsche', 'Renault', 'Skoda',\n",
       "        'Ssangyong', 'Tata', 'Toyota', 'Volkswagen', 'Volvo'], dtype=object),\n",
       " array([' CNG', ' CNG ', ' Diesel', ' Diesel ', ' Electric ', ' Hybrid ',\n",
       "        ' LPG', ' Petrol', ' Petrol ', ' Petrol + CNG '], dtype=object)]"
      ]
     },
     "execution_count": 35,
     "metadata": {},
     "output_type": "execute_result"
    }
   ],
   "source": [
    "ohe.categories_"
   ]
  },
  {
   "cell_type": "code",
   "execution_count": 36,
   "metadata": {},
   "outputs": [],
   "source": [
    "column_trans = make_column_transformer((OneHotEncoder(categories=ohe.categories_),['Name','Company','Fuel_type']), remainder='passthrough')"
   ]
  },
  {
   "cell_type": "code",
   "execution_count": 37,
   "metadata": {},
   "outputs": [],
   "source": [
    "lr=LinearRegression()"
   ]
  },
  {
   "cell_type": "code",
   "execution_count": 38,
   "metadata": {},
   "outputs": [],
   "source": [
    "pipe=make_pipeline(column_trans,lr)"
   ]
  },
  {
   "cell_type": "code",
   "execution_count": 39,
   "metadata": {},
   "outputs": [
    {
     "data": {
      "text/plain": [
       "Pipeline(steps=[('columntransformer',\n",
       "                 ColumnTransformer(remainder='passthrough',\n",
       "                                   transformers=[('onehotencoder',\n",
       "                                                  OneHotEncoder(categories=[array(['Audi Q3 -', 'Audi Q5 2.0', 'Audi Q7 3.0', 'Audi Q7 35',\n",
       "       'BMW 3 Series', 'BMW 5 Series', 'BMW X5 xDrive30d',\n",
       "       'Chevrolet Aveo -', 'Chevrolet Beat -', 'Chevrolet Beat LS',\n",
       "       'Chevrolet Beat LT', 'Chevrolet Cruze LTZ', 'Chevrolet Optra -',\n",
       "       'Chevrolet S...\n",
       "       'Hyundai', 'Jaguar', 'Jeep', 'Kia', 'Land', 'MG', 'Mahindra',\n",
       "       'Maruti', 'Mercedes', 'Nissan', 'Porsche', 'Renault', 'Skoda',\n",
       "       'Ssangyong', 'Tata', 'Toyota', 'Volkswagen', 'Volvo'], dtype=object),\n",
       "                                                                            array([' CNG', ' CNG ', ' Diesel', ' Diesel ', ' Electric ', ' Hybrid ',\n",
       "       ' LPG', ' Petrol', ' Petrol ', ' Petrol + CNG '], dtype=object)]),\n",
       "                                                  ['Name', 'Company',\n",
       "                                                   'Fuel_type'])])),\n",
       "                ('linearregression', LinearRegression())])"
      ]
     },
     "execution_count": 39,
     "metadata": {},
     "output_type": "execute_result"
    }
   ],
   "source": [
    "pipe.fit(X_train,y_train)"
   ]
  },
  {
   "cell_type": "code",
   "execution_count": 40,
   "metadata": {},
   "outputs": [
    {
     "data": {
      "text/html": [
       "<div>\n",
       "<style scoped>\n",
       "    .dataframe tbody tr th:only-of-type {\n",
       "        vertical-align: middle;\n",
       "    }\n",
       "\n",
       "    .dataframe tbody tr th {\n",
       "        vertical-align: top;\n",
       "    }\n",
       "\n",
       "    .dataframe thead th {\n",
       "        text-align: right;\n",
       "    }\n",
       "</style>\n",
       "<table border=\"1\" class=\"dataframe\">\n",
       "  <thead>\n",
       "    <tr style=\"text-align: right;\">\n",
       "      <th></th>\n",
       "      <th>Name</th>\n",
       "      <th>Company</th>\n",
       "      <th>Year</th>\n",
       "      <th>Kms_driven</th>\n",
       "      <th>Fuel_type</th>\n",
       "    </tr>\n",
       "  </thead>\n",
       "  <tbody>\n",
       "    <tr>\n",
       "      <th>312</th>\n",
       "      <td>Maruti Suzuki Eeco</td>\n",
       "      <td>Maruti</td>\n",
       "      <td>2019</td>\n",
       "      <td>25735</td>\n",
       "      <td>Petrol</td>\n",
       "    </tr>\n",
       "    <tr>\n",
       "      <th>277</th>\n",
       "      <td>Maruti Suzuki Vitara</td>\n",
       "      <td>Maruti</td>\n",
       "      <td>2019</td>\n",
       "      <td>29110</td>\n",
       "      <td>Diesel</td>\n",
       "    </tr>\n",
       "    <tr>\n",
       "      <th>633</th>\n",
       "      <td>Hyundai EON Era</td>\n",
       "      <td>Hyundai</td>\n",
       "      <td>2017</td>\n",
       "      <td>33882</td>\n",
       "      <td>Petrol</td>\n",
       "    </tr>\n",
       "    <tr>\n",
       "      <th>106</th>\n",
       "      <td>Toyota Corolla Altis</td>\n",
       "      <td>Toyota</td>\n",
       "      <td>2017</td>\n",
       "      <td>39113</td>\n",
       "      <td>Petrol</td>\n",
       "    </tr>\n",
       "    <tr>\n",
       "      <th>903</th>\n",
       "      <td>Tata Hexa -</td>\n",
       "      <td>Tata</td>\n",
       "      <td>2019</td>\n",
       "      <td>85000</td>\n",
       "      <td>Diesel</td>\n",
       "    </tr>\n",
       "    <tr>\n",
       "      <th>...</th>\n",
       "      <td>...</td>\n",
       "      <td>...</td>\n",
       "      <td>...</td>\n",
       "      <td>...</td>\n",
       "      <td>...</td>\n",
       "    </tr>\n",
       "    <tr>\n",
       "      <th>831</th>\n",
       "      <td>Maruti Suzuki Alto</td>\n",
       "      <td>Maruti</td>\n",
       "      <td>2009</td>\n",
       "      <td>57000</td>\n",
       "      <td>Petrol</td>\n",
       "    </tr>\n",
       "    <tr>\n",
       "      <th>804</th>\n",
       "      <td>Hyundai i10 Magna</td>\n",
       "      <td>Hyundai</td>\n",
       "      <td>2015</td>\n",
       "      <td>28000</td>\n",
       "      <td>Petrol</td>\n",
       "    </tr>\n",
       "    <tr>\n",
       "      <th>719</th>\n",
       "      <td>Maruti Suzuki Wagon</td>\n",
       "      <td>Maruti</td>\n",
       "      <td>2014</td>\n",
       "      <td>54645</td>\n",
       "      <td>Petrol</td>\n",
       "    </tr>\n",
       "    <tr>\n",
       "      <th>559</th>\n",
       "      <td>Hyundai Xcent S</td>\n",
       "      <td>Hyundai</td>\n",
       "      <td>2016</td>\n",
       "      <td>63048</td>\n",
       "      <td>Petrol</td>\n",
       "    </tr>\n",
       "    <tr>\n",
       "      <th>447</th>\n",
       "      <td>Honda CRV -</td>\n",
       "      <td>Honda</td>\n",
       "      <td>2004</td>\n",
       "      <td>97000</td>\n",
       "      <td>LPG</td>\n",
       "    </tr>\n",
       "  </tbody>\n",
       "</table>\n",
       "<p>206 rows × 5 columns</p>\n",
       "</div>"
      ],
      "text/plain": [
       "                     Name  Company  Year  Kms_driven Fuel_type\n",
       "312    Maruti Suzuki Eeco   Maruti  2019       25735   Petrol \n",
       "277  Maruti Suzuki Vitara   Maruti  2019       29110   Diesel \n",
       "633       Hyundai EON Era  Hyundai  2017       33882   Petrol \n",
       "106  Toyota Corolla Altis   Toyota  2017       39113   Petrol \n",
       "903           Tata Hexa -     Tata  2019       85000    Diesel\n",
       "..                    ...      ...   ...         ...       ...\n",
       "831    Maruti Suzuki Alto   Maruti  2009       57000    Petrol\n",
       "804     Hyundai i10 Magna  Hyundai  2015       28000   Petrol \n",
       "719   Maruti Suzuki Wagon   Maruti  2014       54645   Petrol \n",
       "559       Hyundai Xcent S  Hyundai  2016       63048   Petrol \n",
       "447           Honda CRV -    Honda  2004       97000       LPG\n",
       "\n",
       "[206 rows x 5 columns]"
      ]
     },
     "execution_count": 40,
     "metadata": {},
     "output_type": "execute_result"
    }
   ],
   "source": [
    "X_test"
   ]
  },
  {
   "cell_type": "code",
   "execution_count": 41,
   "metadata": {},
   "outputs": [],
   "source": [
    "y_pred= pipe.predict(X_test)"
   ]
  },
  {
   "cell_type": "code",
   "execution_count": 42,
   "metadata": {},
   "outputs": [
    {
     "data": {
      "text/plain": [
       "array([ 472591.0056093 ,  944410.21615818,  349065.44640462,\n",
       "       1265609.74063276, 1527231.58885653,  704242.41430996,\n",
       "        230846.65087368,  635416.58628841,  882142.43829346,\n",
       "        526561.62752903,  943955.94393963,  318529.46560848,\n",
       "        385854.32230845,  337757.40968457,  -97512.44980335,\n",
       "        739407.92108534,  613001.84149238,  667412.8962542 ,\n",
       "        729084.83493364,  329409.19876529,  627678.57301052,\n",
       "       1935320.89124304, 1331433.6837032 ,  325204.61963208,\n",
       "        513037.97727984,  290602.27537984,  594920.57299377,\n",
       "        440089.55437018,  639284.78184062,  455955.13458812,\n",
       "        564058.52182999,   96065.63812321, 1419790.64698486,\n",
       "        551625.1886528 ,  798380.96114275, 1258844.18587501,\n",
       "        556334.38512209,  613321.44514793,   31909.02402046,\n",
       "        579591.92797717, 1453271.58798918,  914683.14815296,\n",
       "        295973.2553032 , 1255136.96698233,  392939.19160447,\n",
       "        493738.32255547,  781204.51982602,  778568.20201348,\n",
       "        439580.46952777,  436073.65305856,  421987.45632954,\n",
       "        516344.75083214, 1191921.10836558,  640364.05740841,\n",
       "        320912.37295318, 1009425.62658235,  865743.92289877,\n",
       "        657449.4587106 , 1037766.35950813, 1426986.63726331,\n",
       "        515316.63994779,  593776.03540125,  916392.11203559,\n",
       "        295873.01085669,  395230.61996199,  158319.17050223,\n",
       "        469724.74695571,  708821.32088466,  427513.02324773,\n",
       "        302779.55496652, 2067887.10556266,  886932.27910522,\n",
       "        431974.61488064,  829362.89305119, 1745660.92330511,\n",
       "        285567.32387935,  336406.10016465, -101766.63592051,\n",
       "        236325.64050558,  391180.71683089,  796170.45161127,\n",
       "        930358.01506098,  180001.64203061,  590889.90217754,\n",
       "        664349.84857075,  644814.41679534,  633912.5691129 ,\n",
       "        487203.13519396,  684786.61538605,  450884.03827152,\n",
       "        614130.8163902 ,  352378.14943881,  982453.87636359,\n",
       "        364734.7406956 , 1187103.1778809 ,  705065.7994225 ,\n",
       "        346435.65656163,  407782.92458418,  463096.1220554 ,\n",
       "        545583.64473367,  955727.46882318,  618301.64272031,\n",
       "        465524.1482576 ,  602961.50469118,  527022.57964809,\n",
       "        302796.05081341,  806269.97803859, 1716296.89601594,\n",
       "       2156864.26514105,  427038.57399891,  246930.91225757,\n",
       "        603669.21220921, 1402279.44961354,   35495.22156422,\n",
       "        576456.21233605,  399143.80800988,  498317.98492804,\n",
       "        806607.69999106,  584734.64307253,  873840.54436181,\n",
       "        563417.72161803,  583835.4422925 ,  614358.24256109,\n",
       "        168651.53793247,  453977.58567783, 3526121.03380144,\n",
       "        534893.39296104,  727236.40625301,  606363.14877917,\n",
       "        355341.19219141,  345367.6316767 ,  797324.05173647,\n",
       "        776514.30159347,  410620.20131014,  628820.23555376,\n",
       "       1344294.09516948,  580144.26217782,  340065.14048347,\n",
       "        592873.3589319 ,  776343.95457146,  866377.16780061,\n",
       "        254012.15311053, 1096010.77333479,  524407.46207801,\n",
       "        508783.43816422, 1502200.35994072,  366659.05713247,\n",
       "        509309.33510612,  599094.64318325,  577992.17029224,\n",
       "        348446.63320029,  364223.20485565, 1563871.61157808,\n",
       "        618376.05629331, 1124663.44729057,  580588.27053528,\n",
       "        713910.44578084,  470532.16230281,  466467.02196728,\n",
       "        559856.19301708,  672399.94437921,  347675.65691373,\n",
       "       3549931.36299612,  656865.39817609, 1578559.70227604,\n",
       "        635859.4428889 ,  646955.50178877,  801553.32396504,\n",
       "        648954.32542254,  852174.6992887 ,  389257.01547833,\n",
       "        563479.6859998 ,  531889.47760871, 1792276.34872003,\n",
       "        431064.57937133,  821487.06526488,  386560.71735533,\n",
       "        394974.1673854 , 1269233.82528551,  826237.51494692,\n",
       "        444452.07322428,  354397.39813995,  364232.25020717,\n",
       "        435308.61270398,  437767.68611507,  731728.91988201,\n",
       "        531236.2860624 ,  190767.36101377, 1469560.32843204,\n",
       "        599765.37466411,  250305.21449585,  603698.93911846,\n",
       "       1553897.38026619,  387067.54286252,  650525.7132531 ,\n",
       "        436110.07098503,  593496.88876328,  875700.99314219,\n",
       "        499108.97191438,  879506.14750135,  391209.07127133,\n",
       "         52144.66756757,  389236.2106913 ,  329831.93801917,\n",
       "        446723.33121347,  204196.60106088])"
      ]
     },
     "execution_count": 42,
     "metadata": {},
     "output_type": "execute_result"
    }
   ],
   "source": [
    "y_pred"
   ]
  },
  {
   "cell_type": "code",
   "execution_count": 43,
   "metadata": {},
   "outputs": [
    {
     "data": {
      "text/plain": [
       "0.5994257506542107"
      ]
     },
     "execution_count": 43,
     "metadata": {},
     "output_type": "execute_result"
    }
   ],
   "source": [
    "r2_score(y_test,y_pred)"
   ]
  },
  {
   "cell_type": "code",
   "execution_count": 44,
   "metadata": {},
   "outputs": [],
   "source": [
    "import numpy as np"
   ]
  },
  {
   "cell_type": "code",
   "execution_count": 45,
   "metadata": {},
   "outputs": [],
   "source": [
    "scores=[]\n",
    "for i in range(1000):\n",
    "    X_train,X_test,y_train,y_test=train_test_split(X,y,test_size=0.2, random_state=i)\n",
    "    lr=LinearRegression()\n",
    "    pipe=make_pipeline(column_trans,lr)\n",
    "    pipe.fit(X_train,y_train)\n",
    "    y_pred=pipe.predict(X_test)\n",
    "    scores.append(r2_score(y_test,y_pred))"
   ]
  },
  {
   "cell_type": "code",
   "execution_count": 46,
   "metadata": {},
   "outputs": [
    {
     "data": {
      "text/plain": [
       "141"
      ]
     },
     "execution_count": 46,
     "metadata": {},
     "output_type": "execute_result"
    }
   ],
   "source": [
    "np.argmax(scores)"
   ]
  },
  {
   "cell_type": "code",
   "execution_count": 47,
   "metadata": {},
   "outputs": [
    {
     "data": {
      "text/plain": [
       "0.8812265298005113"
      ]
     },
     "execution_count": 47,
     "metadata": {},
     "output_type": "execute_result"
    }
   ],
   "source": [
    "scores[np.argmax(scores)]"
   ]
  },
  {
   "cell_type": "code",
   "execution_count": 48,
   "metadata": {},
   "outputs": [
    {
     "data": {
      "text/plain": [
       "0.8812265298005113"
      ]
     },
     "execution_count": 48,
     "metadata": {},
     "output_type": "execute_result"
    }
   ],
   "source": [
    " X_train,X_test,y_train,y_test=train_test_split(X,y,test_size=0.2, random_state=np.argmax(scores))\n",
    "lr=LinearRegression()\n",
    "pipe=make_pipeline(column_trans,lr)\n",
    "pipe.fit(X_train,y_train)\n",
    "y_pred=pipe.predict(X_test)\n",
    "r2_score(y_test,y_pred)"
   ]
  },
  {
   "cell_type": "code",
   "execution_count": 49,
   "metadata": {},
   "outputs": [],
   "source": [
    "import pickle"
   ]
  },
  {
   "cell_type": "code",
   "execution_count": 50,
   "metadata": {},
   "outputs": [],
   "source": [
    "pickle.dump(pipe,open('LinearRegressionModel.pkl','wb'))"
   ]
  },
  {
   "cell_type": "code",
   "execution_count": null,
   "metadata": {},
   "outputs": [],
   "source": []
  }
 ],
 "metadata": {
  "kernelspec": {
   "display_name": "Python 3",
   "language": "python",
   "name": "python3"
  },
  "language_info": {
   "codemirror_mode": {
    "name": "ipython",
    "version": 3
   },
   "file_extension": ".py",
   "mimetype": "text/x-python",
   "name": "python",
   "nbconvert_exporter": "python",
   "pygments_lexer": "ipython3",
   "version": "3.8.5"
  }
 },
 "nbformat": 4,
 "nbformat_minor": 4
}
